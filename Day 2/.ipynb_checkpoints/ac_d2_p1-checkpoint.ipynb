{
 "cells": [
  {
   "cell_type": "code",
   "execution_count": 1,
   "metadata": {},
   "outputs": [],
   "source": [
    "import numpy as np\n",
    "import pandas as pd\n",
    "from pathlib import Path\n",
    "from collections import Counter\n",
    "%matplotlib inline"
   ]
  },
  {
   "cell_type": "code",
   "execution_count": 2,
   "metadata": {},
   "outputs": [],
   "source": [
    "# Reading in the file\n",
    "pass_df = pd.read_csv(Path(\"adventcodeday2.csv\"))"
   ]
  },
  {
   "cell_type": "code",
   "execution_count": 3,
   "metadata": {},
   "outputs": [],
   "source": [
    "# Cleaning up the df to put into a list \n",
    "pass_df[['Start','End']] = pass_df.times.str.split(\"-\",expand=True)\n",
    "pass_df = pass_df.drop(columns=['times'])\n",
    "pass_df = pass_df[['Start', 'End', 'letter', 'password']]\n",
    "pass_df.Start = pass_df.Start.astype(int)\n",
    "pass_df.End = pass_df.End.astype(int)"
   ]
  },
  {
   "cell_type": "code",
   "execution_count": 4,
   "metadata": {},
   "outputs": [],
   "source": [
    "#Converting df to list\n",
    "pass_list = pass_df.values.tolist()"
   ]
  },
  {
   "cell_type": "code",
   "execution_count": 5,
   "metadata": {},
   "outputs": [],
   "source": [
    "#Initializng empty results list\n",
    "results = []\n",
    "counter = 0\n",
    "#Looping through the password list\n",
    "\n",
    "for entry in pass_list:\n",
    "    start = entry[0] -1\n",
    "    end = entry[1] -1\n",
    "    letter = entry[2]\n",
    "    password = entry[3]\n",
    "    counter += 1\n",
    "    \n",
    "       "
   ]
  },
  {
   "cell_type": "code",
   "execution_count": 6,
   "metadata": {},
   "outputs": [],
   "source": [
    "#Initializng empty results list\n",
    "results = []\n",
    "counter = 0\n",
    "#Looping through the password list\n",
    "\n",
    "for entry in pass_list:\n",
    "    start = entry[0] -1\n",
    "    end = entry[1] -1\n",
    "    letter = entry[2]\n",
    "    password = entry[3]\n",
    "    \n",
    "    if password[start] == letter and password[end] == letter:\n",
    "        counter += 0\n",
    "    elif password[start] == letter or password[end] == letter:\n",
    "        counter += 1\n",
    "    else:\n",
    "        counter += 0\n",
    "        "
   ]
  },
  {
   "cell_type": "code",
   "execution_count": 7,
   "metadata": {},
   "outputs": [
    {
     "data": {
      "text/plain": [
       "686"
      ]
     },
     "execution_count": 7,
     "metadata": {},
     "output_type": "execute_result"
    }
   ],
   "source": [
    "counter"
   ]
  },
  {
   "cell_type": "code",
   "execution_count": null,
   "metadata": {},
   "outputs": [],
   "source": []
  }
 ],
 "metadata": {
  "kernelspec": {
   "display_name": "Python [conda env:pyvizenv] *",
   "language": "python",
   "name": "conda-env-pyvizenv-py"
  },
  "language_info": {
   "codemirror_mode": {
    "name": "ipython",
    "version": 3
   },
   "file_extension": ".py",
   "mimetype": "text/x-python",
   "name": "python",
   "nbconvert_exporter": "python",
   "pygments_lexer": "ipython3",
   "version": "3.7.7"
  }
 },
 "nbformat": 4,
 "nbformat_minor": 4
}
